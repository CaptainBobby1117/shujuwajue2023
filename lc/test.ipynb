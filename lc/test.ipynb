{
 "cells": [
  {
   "cell_type": "code",
   "execution_count": 2,
   "metadata": {},
   "outputs": [
    {
     "name": "stdout",
     "output_type": "stream",
     "text": [
      "25000\n"
     ]
    }
   ],
   "source": [
    "import pickle\n",
    "\n",
    "path = \"../data/GEOM/QM9/val_data_5k.pkl\"\n",
    "f = open(path,'rb')\n",
    "data = pickle.load(f)\n",
    "print(len(data))"
   ]
  },
  {
   "cell_type": "code",
   "execution_count": 17,
   "metadata": {},
   "outputs": [],
   "source": [
    "import pandas as pd\n",
    "\n",
    "# 构建数据字典\n",
    "d = {\n",
    "    'atom_type': [],\n",
    "    'atom_num': [],\n",
    "    'boltzmannweight': [],\n",
    "    'edge_index': [],\n",
    "    'edge_type': [],\n",
    "    'edge_num': [],\n",
    "    'pos': [],\n",
    "    'rdmol': [],\n",
    "    'smiles': [],\n",
    "    'total_energy': []\n",
    "}\n",
    "# 将pyg数据转化为数据字典\n",
    "for ob in data:\n",
    "    d['atom_type'].append(ob.atom_type)\n",
    "    d['atom_num'].append(len(ob.atom_type))\n",
    "    d['boltzmannweight'].append(ob.boltzmannweight)\n",
    "    d['edge_index'].append(ob.edge_index)\n",
    "    d['edge_type'].append(ob.edge_type)\n",
    "    d['edge_num'].append(len(ob.edge_type))\n",
    "    d['pos'].append(ob.pos.numpy())\n",
    "    d['smiles'].append(ob.smiles)\n",
    "    d['rdmol'].append(ob.rdmol)\n",
    "    d['total_energy'].append(ob.totalenergy.numpy()[0])"
   ]
  },
  {
   "cell_type": "markdown",
   "metadata": {},
   "source": []
  },
  {
   "cell_type": "code",
   "execution_count": 18,
   "metadata": {},
   "outputs": [
    {
     "name": "stdout",
     "output_type": "stream",
     "text": [
      "数据摘要：\n",
      "           atom_num     edge_num  total_energy\n",
      "count  25000.000000  25000.00000  25000.000000\n",
      "mean      19.247800     38.73488    -28.039411\n",
      "std        2.703236      5.76970      1.863265\n",
      "min        9.000000     14.00000    -33.830925\n",
      "25%       17.000000     34.00000    -29.247682\n",
      "50%       19.000000     38.00000    -28.287555\n",
      "75%       21.000000     42.00000    -27.109329\n",
      "max       29.000000     56.00000    -17.716461\n",
      "缺失值：\n",
      "atom_type          0\n",
      "atom_num           0\n",
      "boltzmannweight    0\n",
      "edge_index         0\n",
      "edge_type          0\n",
      "edge_num           0\n",
      "pos                0\n",
      "rdmol              0\n",
      "smiles             0\n",
      "total_energy       0\n",
      "dtype: int64\n"
     ]
    }
   ],
   "source": [
    "import matplotlib.pyplot as plt\n",
    "import numpy as np\n",
    "\n",
    "# 将数据字典转换为 DataFrame\n",
    "qm9_data = pd.DataFrame(d)\n",
    "\n",
    "# 查看数据集的统计摘要\n",
    "print(\"数据摘要：\")\n",
    "print(qm9_data.describe())\n",
    "\n",
    "# 查看数据集的缺失值情况\n",
    "print(\"缺失值：\")\n",
    "print(qm9_data.isnull().sum())"
   ]
  },
  {
   "cell_type": "code",
   "execution_count": 20,
   "metadata": {},
   "outputs": [
    {
     "data": {
      "image/png": "[encoded data removed]",
      "text/plain": [
       "<Figure size 432x288 with 1 Axes>"
      ]
     },
     "metadata": {
      "needs_background": "light"
     },
     "output_type": "display_data"
    }
   ],
   "source": [
    "# 绘制数据集中总能量的直方图\n",
    "qm9_data['total_energy'].hist(bins=20)\n",
    "plt.xlabel('Total Energy')\n",
    "plt.ylabel('Frequency')\n",
    "plt.show()"
   ]
  },
  {
   "cell_type": "code",
   "execution_count": 23,
   "metadata": {},
   "outputs": [
    {
     "data": {
      "image/png": "[encoded data removed]",
      "text/plain": [
       "<Figure size 432x288 with 1 Axes>"
      ]
     },
     "metadata": {
      "needs_background": "light"
     },
     "output_type": "display_data"
    },
    {
     "data": {
      "image/png": "[encoded data removed]",
      "text/plain": [
       "<Figure size 432x288 with 1 Axes>"
      ]
     },
     "metadata": {
      "needs_background": "light"
     },
     "output_type": "display_data"
    }
   ],
   "source": [
    "# 绘制数据集中原子数量的箱线图\n",
    "qm9_data.boxplot(column='atom_num')\n",
    "plt.ylabel('atom_num')\n",
    "plt.show()\n",
    "\n",
    "# 分子边数的箱线图\n",
    "qm9_data.boxplot(column='edge_num')\n",
    "plt.ylabel('edge_num')\n",
    "plt.show()"
   ]
  }
 ],
 "metadata": {
  "kernelspec": {
   "display_name": "geodiff",
   "language": "python",
   "name": "python3"
  },
  "language_info": {
   "codemirror_mode": {
    "name": "ipython",
    "version": 3
   },
   "file_extension": ".py",
   "mimetype": "text/x-python",
   "name": "python",
   "nbconvert_exporter": "python",
   "pygments_lexer": "ipython3",
   "version": "3.7.10"
  },
  "orig_nbformat": 4
 },
 "nbformat": 4,
 "nbformat_minor": 2
}
